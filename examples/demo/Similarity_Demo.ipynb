{
 "cells": [
  {
   "cell_type": "code",
   "execution_count": 1,
   "metadata": {},
   "outputs": [],
   "source": [
    "import pandas as pd\n",
    "import math\n",
    "import numpy as np\n",
    "from lux.vis.VisList import VisList\n",
    "\n",
    "def similar_pattern(ldf, *args):\n",
    "    '''\n",
    "    Generates visualizations with similar patterns to a query visualization.\n",
    "\n",
    "    Parameters\n",
    "    ----------\n",
    "    ldf : lux.core.frame\n",
    "        LuxDataFrame with underspecified intent.\n",
    "\n",
    "    intent: list[lux.Clause]\n",
    "        intent for specifying the visual query for the similarity search.\n",
    "\n",
    "    topK: int\n",
    "        number of visual recommendations to return.\n",
    "\n",
    "    Returns\n",
    "    -------\n",
    "    recommendations : Dict[str,obj]\n",
    "    object with a collection of visualizations that result from the Similarity action\n",
    "    '''\n",
    "    print(args[0][0])\n",
    "    intent = [lux.Clause(\"Year\",channel=\"x\"), \n",
    "              lux.Clause(\"Displacement\",channel=\"y\"), \n",
    "              lux.Clause(\"Origin=?\")]\n",
    "    row_specs = [lux.Clause(\"Origin\", value=\"USA\")]\n",
    "    topK = 15\n",
    "    \n",
    "    row_specs = list(filter(lambda x: x.value != \"\", row_specs))\n",
    "    print(len(row_specs))\n",
    "    if(len(row_specs) == 1):\n",
    "        search_space_vc = VisList(query,ldf)\n",
    "        print(len(search_space_vc))\n",
    "        \n",
    "        query_vc = VisList(intent,ldf)     \n",
    "        query_vis = query_vc[0]\n",
    "        print(\"query vis data\", query_vis.data.to_pandas())\n",
    "        preprocess(query_vis)\n",
    "        #for loop to create assign euclidean distance\n",
    "        recommendation = {\"action\":\"Similarity\",\n",
    "                               \"description\":\"Show other charts that are visually similar to the Current vis.\"}\n",
    "        for vis in search_space_vc:\n",
    "            print(vis.data)\n",
    "            preprocess(vis)\n",
    "            vis.score = euclidean_dist(query_vis, vis)\n",
    "        search_space_vc.normalize_score(invert_order=True)\n",
    "        if(topK!=-1):\n",
    "            search_space_vc = search_space_vc.topK(topK)\n",
    "        recommendation[\"collection\"] = search_space_vc\n",
    "        return recommendation\n",
    "    else:\n",
    "        print(\"Query needs to have 1 row value\")\n",
    "\n",
    "def interpolate(vis,length):\n",
    "    '''\n",
    "    Interpolates the vis data so that the number of data points is fixed to a constant\n",
    "\n",
    "    Parameters\n",
    "    ----------\n",
    "    vis : lux.vis.Vis\n",
    "        vis that represents the candidate visualization\n",
    "    length : int\n",
    "        number of points a vis should have\n",
    "\n",
    "    Returns\n",
    "    -------\n",
    "    None\n",
    "    '''\n",
    "    if vis.get_attr_by_channel(\"x\") and vis.get_attr_by_channel(\"y\"):\n",
    "\n",
    "        xAxis = vis.get_attr_by_channel(\"x\")[0].attribute\n",
    "        yAxis = vis.get_attr_by_channel(\"y\")[0].attribute\n",
    "\n",
    "        if xAxis and yAxis:\n",
    "            yVals = vis.data[yAxis]\n",
    "            xVals = vis.data[xAxis]\n",
    "            n = length\n",
    "\n",
    "            interpolated_x_vals = [0.0]*(length)\n",
    "            interpolated_y_vals = [0.0]*(length)\n",
    "\n",
    "            granularity = (xVals[len(xVals)-1] - xVals[0]) / n\n",
    "\n",
    "            count = 0\n",
    "\n",
    "            for i in range(0,n):\n",
    "                interpolated_x = xVals[0] + i * granularity\n",
    "                interpolated_x_vals[i] = interpolated_x\n",
    "\n",
    "                while xVals[count] < interpolated_x:\n",
    "                    if(count < len(xVals)):\n",
    "                        count += 1\n",
    "                if xVals[count] == interpolated_x:\n",
    "                    interpolated_y_vals[i] = yVals[count]\n",
    "                else:\n",
    "                    x_diff = xVals[count] - xVals[count-1]\n",
    "                    yDiff = yVals[count] - yVals[count-1]\n",
    "                    interpolated_y_vals[i] = yVals[count-1] + (interpolated_x - xVals[count-1]) / x_diff * yDiff\n",
    "            vis._data = pd.DataFrame(list(zip(interpolated_x_vals, interpolated_y_vals)),columns = [xAxis, yAxis])\n",
    "\n",
    "# interpolate dataset\n",
    "\n",
    "def normalize(vis):\n",
    "    '''\n",
    "    Normalizes the vis data so that the range of values is 0 to 1 for the vis\n",
    "\n",
    "    Parameters\n",
    "    ----------\n",
    "    vis : lux.vis.Vis\n",
    "        vis that represents the candidate visualization\n",
    "    Returns\n",
    "    -------\n",
    "    None\n",
    "    '''\n",
    "    if vis.get_attr_by_channel(\"y\"):\n",
    "        y_axis = vis.get_attr_by_channel(\"y\")[0].attribute\n",
    "        max = vis.data[y_axis].max()\n",
    "        min = vis.data[y_axis].min()\n",
    "        if(max == min or (max-min<1)):\n",
    "            return\n",
    "        vis.data[y_axis] = (vis.data[y_axis] - min) / (max - min)\n",
    "\n",
    "def euclidean_dist(query_vis, vis):\n",
    "    '''\n",
    "    Calculates euclidean distance score for similarity between two visualizations\n",
    "\n",
    "    Parameters\n",
    "    ----------\n",
    "    query_vis : lux.vis.Vis\n",
    "        vis that represents the query pattern\n",
    "    vis : lux.vis.Vis\n",
    "        vis that represents the candidate visualization\n",
    "\n",
    "    Returns\n",
    "    -------\n",
    "    score : float\n",
    "        euclidean distance score\n",
    "    '''\n",
    "\n",
    "    if query_vis.get_attr_by_channel(\"y\") and vis.get_attr_by_channel(\"y\"):\n",
    "\n",
    "        vis_y_axis = vis.get_attr_by_channel(\"y\")[0].attribute\n",
    "        query_y_axis = query_vis.get_attr_by_channel(\"y\")[0].attribute\n",
    "\n",
    "        vis_vector = vis.data[vis_y_axis].values\n",
    "        query_vector = query_vis.data[query_y_axis].values\n",
    "        score = np.linalg.norm(vis_vector - query_vector)\n",
    "\n",
    "        return score\n",
    "    else:\n",
    "        print(\"no y axis detected\")\n",
    "        return 0\n",
    "def preprocess(vis):\n",
    "    '''\n",
    "    Processes vis data to allow similarity comparisons between visualizations\n",
    "\n",
    "    Parameters\n",
    "    ----------\n",
    "    vis : lux.vis.Vis\n",
    "        vis that represents the candidate visualization\n",
    "    Returns\n",
    "    -------\n",
    "    None\n",
    "    '''\n",
    "    # filter to diff subpopulations possible length visdata (line chart) might be different, make sure on the same size vector to compute euclidean dist\n",
    "    interpolate(vis, 100)\n",
    "    normalize(vis)\n",
    "\n"
   ]
  },
  {
   "cell_type": "code",
   "execution_count": 2,
   "metadata": {},
   "outputs": [],
   "source": [
    "import pandas as pd\n",
    "import lux\n",
    "from lux.vis.Clause import Clause\n"
   ]
  },
  {
   "cell_type": "code",
   "execution_count": 3,
   "metadata": {},
   "outputs": [],
   "source": [
    "one_current_vis = lambda ldf: ldf.current_vis is not None and len(ldf.current_vis) == 1"
   ]
  },
  {
   "cell_type": "code",
   "execution_count": null,
   "metadata": {},
   "outputs": [],
   "source": []
  },
  {
   "cell_type": "code",
   "execution_count": 4,
   "metadata": {},
   "outputs": [],
   "source": [
    "df = pd.read_csv(\"../../lux/data/car.csv\")\n",
    "df[\"Year\"] = pd.to_datetime(df[\"Year\"], format='%Y') # change pandas dtype for the column \"Year\" to datetype\n",
    "\n",
    "df.set_intent([lux.Clause(\"Year\",channel=\"x\"), \n",
    "               lux.Clause(\"Displacement\",channel=\"y\"), \n",
    "               lux.Clause(\"Origin=USA\")])\n",
    "query = [lux.Clause(\"Year\",channel=\"x\"), lux.Clause(\"Displacement\",channel=\"y\"), lux.Clause(\"Origin=?\")]"
   ]
  },
  {
   "cell_type": "code",
   "execution_count": 5,
   "metadata": {},
   "outputs": [],
   "source": [
    "lux.register_action(\"similarity\", similar_pattern, lambda x: True, query)"
   ]
  },
  {
   "cell_type": "code",
   "execution_count": 6,
   "metadata": {},
   "outputs": [
    {
     "name": "stdout",
     "output_type": "stream",
     "text": [
      "[<Clause  description: Year,\n",
      "         channel: x,\n",
      "         bin_size: 0 >, <Clause  description: Displacement,\n",
      "         channel: y,\n",
      "         bin_size: 0 >, <Clause  description: Origin=?,\n",
      "         bin_size: 0 >]\n",
      "1\n",
      "3\n",
      "query vis data          Year  Displacement\n",
      "0  1970-01-01    336.909091\n",
      "1  1971-01-01    265.368421\n",
      "2  1972-01-01    281.250000\n",
      "3  1973-01-01    314.103448\n",
      "4  1974-01-01    238.642857\n",
      "5  1975-01-01    253.400000\n",
      "6  1976-01-01    243.954545\n",
      "7  1977-01-01    242.333333\n",
      "8  1978-01-01    217.545455\n",
      "9  1979-01-01    231.260870\n",
      "10 1980-01-01    153.500000\n",
      "11 1982-01-01    151.593750\n",
      "\n",
      "\n",
      "\n"
     ]
    },
    {
     "data": {
      "application/vnd.jupyter.widget-view+json": {
       "model_id": "c3afbb69e3b2447abad58c949ceba3e9",
       "version_major": 2,
       "version_minor": 0
      },
      "text/plain": [
       "Button(description='Toggle Pandas/Lux', layout=Layout(top='5px', width='140px'), style=ButtonStyle())"
      ]
     },
     "metadata": {},
     "output_type": "display_data"
    },
    {
     "data": {
      "application/vnd.jupyter.widget-view+json": {
       "model_id": "7f84d33b6e6949acaed44fc98a6f514d",
       "version_major": 2,
       "version_minor": 0
      },
      "text/plain": [
       "Output()"
      ]
     },
     "metadata": {},
     "output_type": "display_data"
    },
    {
     "data": {
      "text/plain": []
     },
     "execution_count": 6,
     "metadata": {},
     "output_type": "execute_result"
    }
   ],
   "source": [
    "df"
   ]
  },
  {
   "cell_type": "code",
   "execution_count": 53,
   "metadata": {},
   "outputs": [
    {
     "data": {
      "application/vnd.jupyter.widget-view+json": {
       "model_id": "1fda94bfbe004527b54e6cf52921d75c",
       "version_major": 2,
       "version_minor": 0
      },
      "text/plain": [
       "LuxWidget(recommendations=[{'action': 'Vis List', 'description': 'Shows a vis list defined by the intent', 'vs…"
      ]
     },
     "metadata": {},
     "output_type": "display_data"
    },
    {
     "data": {
      "text/plain": [
       "[<Vis  (x: Year, y: MEAN(Displacement)  -- [Origin=USA] ) mark: line, score: 0.00 >]"
      ]
     },
     "execution_count": 53,
     "metadata": {},
     "output_type": "execute_result"
    }
   ],
   "source": [
    "df.current_vis"
   ]
  },
  {
   "cell_type": "code",
   "execution_count": null,
   "metadata": {},
   "outputs": [],
   "source": []
  }
 ],
 "metadata": {
  "kernelspec": {
   "display_name": "Python 3",
   "language": "python",
   "name": "python3"
  },
  "language_info": {
   "codemirror_mode": {
    "name": "ipython",
    "version": 3
   },
   "file_extension": ".py",
   "mimetype": "text/x-python",
   "name": "python",
   "nbconvert_exporter": "python",
   "pygments_lexer": "ipython3",
   "version": "3.8.3"
  }
 },
 "nbformat": 4,
 "nbformat_minor": 4
}
