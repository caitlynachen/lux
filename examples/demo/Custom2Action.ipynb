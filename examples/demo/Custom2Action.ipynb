{
 "cells": [
  {
   "cell_type": "code",
   "execution_count": 3,
   "metadata": {},
   "outputs": [],
   "source": [
    "import pandas as pd\n",
    "import lux"
   ]
  },
  {
   "cell_type": "code",
   "execution_count": 4,
   "metadata": {},
   "outputs": [
    {
     "data": {
      "application/vnd.jupyter.widget-view+json": {
       "model_id": "6ee1bccb19dd47348a44c1016ca196e6",
       "version_major": 2,
       "version_minor": 0
      },
      "text/plain": [
       "Button(description='Toggle Pandas/Lux', layout=Layout(top='5px', width='140px'), style=ButtonStyle())"
      ]
     },
     "metadata": {},
     "output_type": "display_data"
    },
    {
     "data": {
      "application/vnd.jupyter.widget-view+json": {
       "model_id": "16f645bb64a9440eb89726d6353ca1ef",
       "version_major": 2,
       "version_minor": 0
      },
      "text/plain": [
       "Output()"
      ]
     },
     "metadata": {},
     "output_type": "display_data"
    },
    {
     "data": {
      "text/plain": []
     },
     "execution_count": 4,
     "metadata": {},
     "output_type": "execute_result"
    }
   ],
   "source": [
    "df = pd.read_csv(\"../../lux/data/hpi.csv\")\n",
    "lux.config.default_display = \"lux\"\n",
    "df"
   ]
  },
  {
   "cell_type": "code",
   "execution_count": 5,
   "metadata": {},
   "outputs": [],
   "source": [
    "df[\"G10\"]  = df[\"Country\"].isin([\"Belgium\",\"Canada\",\"France\",\"Germany\",\"Italy\",\"Japan\",\"Netherlands\",\"United Kingdom\",\"Switzerland\",\"Sweden\",\"United States\"])"
   ]
  },
  {
   "cell_type": "code",
   "execution_count": 6,
   "metadata": {},
   "outputs": [],
   "source": [
    "from lux.vis.VisList import VisList"
   ]
  },
  {
   "cell_type": "code",
   "execution_count": 7,
   "metadata": {},
   "outputs": [],
   "source": [
    "intent = [lux.Clause(\"?\",data_type=\"quantitative\"),lux.Clause(\"G10\")]\n",
    "vlist = VisList(intent,df)\n",
    "\n",
    "for vis in vlist:\n",
    "    # Percentage Change Between G10 v.s. non-G10 countries \n",
    "    a = vis.data.iloc[0,1]\n",
    "    b = vis.data.iloc[1,1]\n",
    "    vis.score = (b-a)/a\n",
    "vlist = vlist.topK(15)"
   ]
  },
  {
   "cell_type": "code",
   "execution_count": 8,
   "metadata": {},
   "outputs": [
    {
     "data": {
      "application/vnd.jupyter.widget-view+json": {
       "model_id": "68e29ad0ed534203b7e984cab4fa5715",
       "version_major": 2,
       "version_minor": 0
      },
      "text/plain": [
       "LuxWidget(recommendations=[{'action': 'Vis List', 'description': 'Shows a vis list defined by the intent', 'vs…"
      ]
     },
     "metadata": {},
     "output_type": "display_data"
    },
    {
     "data": {
      "text/plain": [
       "[<Vis  (x: MEAN(GDPPerCapita)                    , y: G10) mark: bar, score: 3.43 >,\n",
       " <Vis  (x: MEAN(Footprint)                       , y: G10) mark: bar, score: 0.93 >,\n",
       " <Vis  (x: MEAN(HappyLifeYears)                  , y: G10) mark: bar, score: 0.77 >,\n",
       " <Vis  (x: MEAN(InequalityAdjustedWellbeing)     , y: G10) mark: bar, score: 0.37 >,\n",
       " <Vis  (x: MEAN(InequalityAdjustedLifeExpectancy), y: G10) mark: bar, score: 0.33 >,\n",
       " <Vis  (x: MEAN(AverageWellBeing)                , y: G10) mark: bar, score: 0.31 >,\n",
       " <Vis  (x: MEAN(AverageLifeExpectancy)           , y: G10) mark: bar, score: 0.16 >,\n",
       " <Vis  (x: MEAN(HappyPlanetIndex)                , y: G10) mark: bar, score: 0.12 >,\n",
       " <Vis  (x: MEAN(Population)                      , y: G10) mark: bar, score: -0.01 >,\n",
       " <Vis  (x: MEAN(HPIRank)                         , y: G10) mark: bar, score: -0.28 >,\n",
       " <Vis  (x: MEAN(InequalityOfOutcomes)            , y: G10) mark: bar, score: -0.67 >]"
      ]
     },
     "execution_count": 8,
     "metadata": {},
     "output_type": "execute_result"
    }
   ],
   "source": [
    "vlist"
   ]
  },
  {
   "cell_type": "code",
   "execution_count": 9,
   "metadata": {},
   "outputs": [],
   "source": [
    "def G10_mean_difference(input_df): #TODO: change input_df name? \n",
    "    intent = [lux.Clause(\"?\",data_type=\"quantitative\"),lux.Clause(\"G10\")]\n",
    "    vlist = VisList(intent,input_df)\n",
    "\n",
    "    for vis in vlist:\n",
    "        a = vis.data.iloc[0,1]\n",
    "        b = vis.data.iloc[1,1]\n",
    "        vis.score = (b-a)/a\n",
    "    vlist = vlist.topK(15)\n",
    "    return {\"action\":\"G10\", \"description\": \"Percentage Change of Means Between G10 v.s. non-G10 countries\", \"collection\": vlist}"
   ]
  },
  {
   "cell_type": "code",
   "execution_count": 10,
   "metadata": {},
   "outputs": [],
   "source": [
    "def is_G10_hpi_dataset(df):\n",
    "    try: \n",
    "        return all(df.columns == ['HPIRank', 'Country', 'SubRegion', 'AverageLifeExpectancy',\n",
    "       'AverageWellBeing', 'HappyLifeYears', 'Footprint',\n",
    "       'InequalityOfOutcomes', 'InequalityAdjustedLifeExpectancy',\n",
    "       'InequalityAdjustedWellbeing', 'HappyPlanetIndex', 'GDPPerCapita',\n",
    "       'Population', 'G10'])\n",
    "    except: \n",
    "        return False"
   ]
  },
  {
   "cell_type": "code",
   "execution_count": 11,
   "metadata": {},
   "outputs": [],
   "source": [
    "lux.register_action(\"G10\", G10_mean_difference,is_G10_hpi_dataset)"
   ]
  },
  {
   "cell_type": "markdown",
   "metadata": {},
   "source": [
    "Now we can look at the attributes that are most different across G10 and non-G10 countries. We find that G10 countries have higher GDPPerCapita, but also contribute to more Footprint."
   ]
  },
  {
   "cell_type": "code",
   "execution_count": 12,
   "metadata": {},
   "outputs": [
    {
     "data": {
      "application/vnd.jupyter.widget-view+json": {
       "model_id": "3f7a4f354038443cbe6cd0085106d2ac",
       "version_major": 2,
       "version_minor": 0
      },
      "text/plain": [
       "Button(description='Toggle Pandas/Lux', layout=Layout(top='5px', width='140px'), style=ButtonStyle())"
      ]
     },
     "metadata": {},
     "output_type": "display_data"
    },
    {
     "data": {
      "application/vnd.jupyter.widget-view+json": {
       "model_id": "144991ffc1f447e8b485fc32fcaaee4c",
       "version_major": 2,
       "version_minor": 0
      },
      "text/plain": [
       "Output()"
      ]
     },
     "metadata": {},
     "output_type": "display_data"
    },
    {
     "data": {
      "text/plain": []
     },
     "execution_count": 12,
     "metadata": {},
     "output_type": "execute_result"
    }
   ],
   "source": [
    "df"
   ]
  },
  {
   "cell_type": "markdown",
   "metadata": {},
   "source": [
    "What if we look at countries above a certain GDP threshold? "
   ]
  },
  {
   "cell_type": "code",
   "execution_count": 13,
   "metadata": {},
   "outputs": [
    {
     "data": {
      "application/vnd.jupyter.widget-view+json": {
       "model_id": "1fcddea3f7484a4789a8fc0f33dfb23e",
       "version_major": 2,
       "version_minor": 0
      },
      "text/plain": [
       "Button(description='Toggle Pandas/Lux', layout=Layout(top='5px', width='140px'), style=ButtonStyle())"
      ]
     },
     "metadata": {},
     "output_type": "display_data"
    },
    {
     "data": {
      "application/vnd.jupyter.widget-view+json": {
       "model_id": "cab6b40bf921447889420dbe1e871944",
       "version_major": 2,
       "version_minor": 0
      },
      "text/plain": [
       "Output()"
      ]
     },
     "metadata": {},
     "output_type": "display_data"
    },
    {
     "data": {
      "text/plain": []
     },
     "execution_count": 13,
     "metadata": {},
     "output_type": "execute_result"
    }
   ],
   "source": [
    "df[df[\"GDPPerCapita\"]>40000]"
   ]
  },
  {
   "cell_type": "code",
   "execution_count": 15,
   "metadata": {},
   "outputs": [
    {
     "data": {
      "text/plain": [
       "9"
      ]
     },
     "execution_count": 15,
     "metadata": {},
     "output_type": "execute_result"
    }
   ],
   "source": [
    "lux.actions.__len__()\n",
    "# lux.actions.__getactions__()"
   ]
  },
  {
   "cell_type": "code",
   "execution_count": 16,
   "metadata": {},
   "outputs": [
    {
     "data": {
      "text/plain": [
       "[RegisteredOption(name='correlation', action=<function correlation at 0x7ffa9e187b80>, display_condition=<function LuxDataFrame.maintain_recs.<locals>.<lambda> at 0x7ffa9e21a160>, args=()),\n",
       " RegisteredOption(name='distribution', action=<function univariate at 0x7ffa9e190670>, display_condition=<function LuxDataFrame.maintain_recs.<locals>.<lambda> at 0x7ffa9e21a160>, args=('quantitative',)),\n",
       " RegisteredOption(name='occurrence', action=<function univariate at 0x7ffa9e190670>, display_condition=<function LuxDataFrame.maintain_recs.<locals>.<lambda> at 0x7ffa9e21a160>, args=('nominal',)),\n",
       " RegisteredOption(name='temporal', action=<function univariate at 0x7ffa9e190670>, display_condition=<function LuxDataFrame.maintain_recs.<locals>.<lambda> at 0x7ffa9e21a160>, args=('temporal',)),\n",
       " RegisteredOption(name='enhance', action=<function enhance at 0x7ffa9e190700>, display_condition=<function LuxDataFrame.maintain_recs.<locals>.<lambda> at 0x7ffa9e21a4c0>, args=()),\n",
       " RegisteredOption(name='filter', action=<function filter at 0x7ffa9e190820>, display_condition=<function LuxDataFrame.maintain_recs.<locals>.<lambda> at 0x7ffa9e21a4c0>, args=()),\n",
       " RegisteredOption(name='generalize', action=<function generalize at 0x7ffa9e1908b0>, display_condition=<function LuxDataFrame.maintain_recs.<locals>.<lambda> at 0x7ffa9e21a4c0>, args=()),\n",
       " RegisteredOption(name='custom', action=<function custom at 0x7ffa9de475e0>, display_condition=<function LuxDataFrame.maintain_recs.<locals>.<lambda> at 0x7ffa9e21a430>, args=()),\n",
       " RegisteredOption(name='G10', action=<function G10_mean_difference at 0x7ffa9e8fddc0>, display_condition=<function is_G10_hpi_dataset at 0x7ffa9e8fde50>, args=())]"
      ]
     },
     "execution_count": 16,
     "metadata": {},
     "output_type": "execute_result"
    }
   ],
   "source": [
    "lux.actions.__getactions__()"
   ]
  },
  {
   "cell_type": "code",
   "execution_count": 13,
   "metadata": {},
   "outputs": [
    {
     "data": {
      "text/plain": [
       "RegisteredOption(name='G10', action=<function G10_mean_difference at 0x7fddfa1410d0>, display_condition=<function is_G10_hpi_dataset at 0x7fddf992c670>, args=())"
      ]
     },
     "execution_count": 13,
     "metadata": {},
     "output_type": "execute_result"
    }
   ],
   "source": [
    "lux.actions.__getattr__(\"G10\")"
   ]
  },
  {
   "cell_type": "code",
   "execution_count": 14,
   "metadata": {},
   "outputs": [],
   "source": [
    "lux.remove_action(\"G10\")"
   ]
  },
  {
   "cell_type": "code",
   "execution_count": 15,
   "metadata": {},
   "outputs": [
    {
     "data": {
      "application/vnd.jupyter.widget-view+json": {
       "model_id": "c5b8f5eecddc475da49b1d50d0610564",
       "version_major": 2,
       "version_minor": 0
      },
      "text/plain": [
       "Button(description='Toggle Pandas/Lux', layout=Layout(top='5px', width='140px'), style=ButtonStyle())"
      ]
     },
     "metadata": {},
     "output_type": "display_data"
    },
    {
     "data": {
      "application/vnd.jupyter.widget-view+json": {
       "model_id": "b4265c25ee934c8fa5a09d1799d0047d",
       "version_major": 2,
       "version_minor": 0
      },
      "text/plain": [
       "Output()"
      ]
     },
     "metadata": {},
     "output_type": "display_data"
    },
    {
     "data": {
      "text/plain": []
     },
     "execution_count": 15,
     "metadata": {},
     "output_type": "execute_result"
    }
   ],
   "source": [
    "df"
   ]
  },
  {
   "cell_type": "code",
   "execution_count": null,
   "metadata": {},
   "outputs": [],
   "source": []
  }
 ],
 "metadata": {
  "kernelspec": {
   "display_name": "Python 3",
   "language": "python",
   "name": "python3"
  },
  "language_info": {
   "codemirror_mode": {
    "name": "ipython",
    "version": 3
   },
   "file_extension": ".py",
   "mimetype": "text/x-python",
   "name": "python",
   "nbconvert_exporter": "python",
   "pygments_lexer": "ipython3",
   "version": "3.8.3"
  }
 },
 "nbformat": 4,
 "nbformat_minor": 4
}
