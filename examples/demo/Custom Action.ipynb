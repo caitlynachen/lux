{
 "cells": [
  {
   "cell_type": "code",
   "execution_count": 1,
   "metadata": {},
   "outputs": [],
   "source": [
    "import pandas as pd\n",
    "import lux"
   ]
  },
  {
   "cell_type": "code",
   "execution_count": 2,
   "metadata": {},
   "outputs": [
    {
     "data": {
      "application/vnd.jupyter.widget-view+json": {
       "model_id": "a1bf0e14805e48219ab03bdd6c224862",
       "version_major": 2,
       "version_minor": 0
      },
      "text/plain": [
       "Button(description='Toggle Pandas/Lux', layout=Layout(top='5px', width='140px'), style=ButtonStyle())"
      ]
     },
     "metadata": {},
     "output_type": "display_data"
    },
    {
     "data": {
      "application/vnd.jupyter.widget-view+json": {
       "model_id": "c5d1180dbea54f20a0886f5d7274316d",
       "version_major": 2,
       "version_minor": 0
      },
      "text/plain": [
       "Output()"
      ]
     },
     "metadata": {},
     "output_type": "display_data"
    },
    {
     "data": {
      "text/plain": []
     },
     "execution_count": 2,
     "metadata": {},
     "output_type": "execute_result"
    }
   ],
   "source": [
    "df = pd.read_csv(\"../../lux/data/hpi.csv\")\n",
    "lux.config.default_display = \"lux\"\n",
    "df"
   ]
  },
  {
   "cell_type": "code",
   "execution_count": 3,
   "metadata": {},
   "outputs": [],
   "source": [
    "df[\"G10\"]  = df[\"Country\"].isin([\"Belgium\",\"Canada\",\"France\",\"Germany\",\"Italy\",\"Japan\",\"Netherlands\",\"United Kingdom\",\"Switzerland\",\"Sweden\",\"United States\"])"
   ]
  },
  {
   "cell_type": "code",
   "execution_count": 4,
   "metadata": {},
   "outputs": [],
   "source": [
    "def G10_mean_difference(ldf):\n",
    "    intent = [lux.Clause(\"?\",data_type=\"quantitative\"),lux.Clause(\"G10\")]\n",
    "    vlist = VisList(intent,df)\n",
    "\n",
    "    for vis in vlist:\n",
    "        a = vis.data.iloc[0,1]\n",
    "        b = vis.data.iloc[1,1]\n",
    "        vis.score = (b-a)/a\n",
    "    vlist = vlist.topK(15)\n",
    "    return {\"action\":\"G10\", \"description\": \"Percentage Change of Means Between G10 v.s. non-G10 countries\", \"collection\": vlist}"
   ]
  },
  {
   "cell_type": "code",
   "execution_count": 5,
   "metadata": {},
   "outputs": [],
   "source": [
    "lux.register_action(\"G10\", G10_mean_difference)"
   ]
  },
  {
   "cell_type": "markdown",
   "metadata": {},
   "source": [
    "Now we can look at the attributes that are most different across G10 and non-G10 countries. We find that G10 countries have higher GDPPerCapita, but also contribute to more Footprint."
   ]
  },
  {
   "cell_type": "code",
   "execution_count": 6,
   "metadata": {},
   "outputs": [
    {
     "name": "stderr",
     "output_type": "stream",
     "text": [
      "/opt/anaconda3/envs/lux/lib/python3.8/site-packages/IPython/core/formatters.py:345: UserWarning: \n",
      "Unexpected error in rendering Lux widget and recommendations. Falling back to Pandas display.\n",
      "\n",
      "Please report this issue on Github: https://github.com/lux-org/lux/issues \n",
      "  return method()\n"
     ]
    },
    {
     "data": {
      "text/html": [
       "<div>\n",
       "<style scoped>\n",
       "    .dataframe tbody tr th:only-of-type {\n",
       "        vertical-align: middle;\n",
       "    }\n",
       "\n",
       "    .dataframe tbody tr th {\n",
       "        vertical-align: top;\n",
       "    }\n",
       "\n",
       "    .dataframe thead th {\n",
       "        text-align: right;\n",
       "    }\n",
       "</style>\n",
       "<table border=\"1\" class=\"dataframe\">\n",
       "  <thead>\n",
       "    <tr style=\"text-align: right;\">\n",
       "      <th></th>\n",
       "      <th>HPIRank</th>\n",
       "      <th>Country</th>\n",
       "      <th>SubRegion</th>\n",
       "      <th>AverageLifeExpectancy</th>\n",
       "      <th>AverageWellBeing</th>\n",
       "      <th>HappyLifeYears</th>\n",
       "      <th>Footprint</th>\n",
       "      <th>InequalityOfOutcomes</th>\n",
       "      <th>InequalityAdjustedLifeExpectancy</th>\n",
       "      <th>InequalityAdjustedWellbeing</th>\n",
       "      <th>HappyPlanetIndex</th>\n",
       "      <th>GDPPerCapita</th>\n",
       "      <th>Population</th>\n",
       "      <th>G10</th>\n",
       "    </tr>\n",
       "  </thead>\n",
       "  <tbody>\n",
       "    <tr>\n",
       "      <th>0</th>\n",
       "      <td>110</td>\n",
       "      <td>Afghanistan</td>\n",
       "      <td>Middle East and North Africa</td>\n",
       "      <td>59.7</td>\n",
       "      <td>3.8</td>\n",
       "      <td>12.4</td>\n",
       "      <td>0.8</td>\n",
       "      <td>0.43</td>\n",
       "      <td>38.3</td>\n",
       "      <td>3.4</td>\n",
       "      <td>20.2</td>\n",
       "      <td>691</td>\n",
       "      <td>29726803</td>\n",
       "      <td>False</td>\n",
       "    </tr>\n",
       "    <tr>\n",
       "      <th>1</th>\n",
       "      <td>13</td>\n",
       "      <td>Albania</td>\n",
       "      <td>Post-communist</td>\n",
       "      <td>77.3</td>\n",
       "      <td>5.5</td>\n",
       "      <td>34.4</td>\n",
       "      <td>2.2</td>\n",
       "      <td>0.17</td>\n",
       "      <td>69.7</td>\n",
       "      <td>5.1</td>\n",
       "      <td>36.8</td>\n",
       "      <td>4247</td>\n",
       "      <td>2900489</td>\n",
       "      <td>False</td>\n",
       "    </tr>\n",
       "    <tr>\n",
       "      <th>2</th>\n",
       "      <td>30</td>\n",
       "      <td>Algeria</td>\n",
       "      <td>Middle East and North Africa</td>\n",
       "      <td>74.3</td>\n",
       "      <td>5.6</td>\n",
       "      <td>30.5</td>\n",
       "      <td>2.1</td>\n",
       "      <td>0.24</td>\n",
       "      <td>60.5</td>\n",
       "      <td>5.2</td>\n",
       "      <td>33.3</td>\n",
       "      <td>5584</td>\n",
       "      <td>37439427</td>\n",
       "      <td>False</td>\n",
       "    </tr>\n",
       "    <tr>\n",
       "      <th>3</th>\n",
       "      <td>19</td>\n",
       "      <td>Argentina</td>\n",
       "      <td>Americas</td>\n",
       "      <td>75.9</td>\n",
       "      <td>6.5</td>\n",
       "      <td>40.2</td>\n",
       "      <td>3.1</td>\n",
       "      <td>0.16</td>\n",
       "      <td>68.3</td>\n",
       "      <td>6.0</td>\n",
       "      <td>35.2</td>\n",
       "      <td>14357</td>\n",
       "      <td>42095224</td>\n",
       "      <td>False</td>\n",
       "    </tr>\n",
       "    <tr>\n",
       "      <th>4</th>\n",
       "      <td>73</td>\n",
       "      <td>Armenia</td>\n",
       "      <td>Post-communist</td>\n",
       "      <td>74.4</td>\n",
       "      <td>4.3</td>\n",
       "      <td>24.0</td>\n",
       "      <td>2.2</td>\n",
       "      <td>0.22</td>\n",
       "      <td>66.9</td>\n",
       "      <td>3.7</td>\n",
       "      <td>25.7</td>\n",
       "      <td>3566</td>\n",
       "      <td>2978339</td>\n",
       "      <td>False</td>\n",
       "    </tr>\n",
       "    <tr>\n",
       "      <th>...</th>\n",
       "      <td>...</td>\n",
       "      <td>...</td>\n",
       "      <td>...</td>\n",
       "      <td>...</td>\n",
       "      <td>...</td>\n",
       "      <td>...</td>\n",
       "      <td>...</td>\n",
       "      <td>...</td>\n",
       "      <td>...</td>\n",
       "      <td>...</td>\n",
       "      <td>...</td>\n",
       "      <td>...</td>\n",
       "      <td>...</td>\n",
       "      <td>...</td>\n",
       "    </tr>\n",
       "    <tr>\n",
       "      <th>135</th>\n",
       "      <td>29</td>\n",
       "      <td>Venezuela</td>\n",
       "      <td>Americas</td>\n",
       "      <td>73.9</td>\n",
       "      <td>7.1</td>\n",
       "      <td>41.5</td>\n",
       "      <td>3.6</td>\n",
       "      <td>0.19</td>\n",
       "      <td>65.5</td>\n",
       "      <td>6.5</td>\n",
       "      <td>33.6</td>\n",
       "      <td>12772</td>\n",
       "      <td>29854238</td>\n",
       "      <td>False</td>\n",
       "    </tr>\n",
       "    <tr>\n",
       "      <th>136</th>\n",
       "      <td>5</td>\n",
       "      <td>Vietnam</td>\n",
       "      <td>Asia Pacific</td>\n",
       "      <td>75.5</td>\n",
       "      <td>5.5</td>\n",
       "      <td>32.8</td>\n",
       "      <td>1.7</td>\n",
       "      <td>0.19</td>\n",
       "      <td>64.8</td>\n",
       "      <td>5.2</td>\n",
       "      <td>40.3</td>\n",
       "      <td>1755</td>\n",
       "      <td>88809200</td>\n",
       "      <td>False</td>\n",
       "    </tr>\n",
       "    <tr>\n",
       "      <th>137</th>\n",
       "      <td>94</td>\n",
       "      <td>Yemen</td>\n",
       "      <td>Middle East and North Africa</td>\n",
       "      <td>63.3</td>\n",
       "      <td>4.1</td>\n",
       "      <td>15.2</td>\n",
       "      <td>1.0</td>\n",
       "      <td>0.39</td>\n",
       "      <td>44.7</td>\n",
       "      <td>3.6</td>\n",
       "      <td>22.8</td>\n",
       "      <td>1289</td>\n",
       "      <td>24882792</td>\n",
       "      <td>False</td>\n",
       "    </tr>\n",
       "    <tr>\n",
       "      <th>138</th>\n",
       "      <td>77</td>\n",
       "      <td>Zambia</td>\n",
       "      <td>Sub Saharan Africa</td>\n",
       "      <td>58.4</td>\n",
       "      <td>5.0</td>\n",
       "      <td>16.7</td>\n",
       "      <td>1.0</td>\n",
       "      <td>0.41</td>\n",
       "      <td>38.7</td>\n",
       "      <td>4.5</td>\n",
       "      <td>25.2</td>\n",
       "      <td>1687</td>\n",
       "      <td>14786581</td>\n",
       "      <td>False</td>\n",
       "    </tr>\n",
       "    <tr>\n",
       "      <th>139</th>\n",
       "      <td>99</td>\n",
       "      <td>Zimbabwe</td>\n",
       "      <td>Sub Saharan Africa</td>\n",
       "      <td>53.7</td>\n",
       "      <td>5.0</td>\n",
       "      <td>16.4</td>\n",
       "      <td>1.4</td>\n",
       "      <td>0.37</td>\n",
       "      <td>36.9</td>\n",
       "      <td>4.6</td>\n",
       "      <td>22.1</td>\n",
       "      <td>851</td>\n",
       "      <td>14565482</td>\n",
       "      <td>False</td>\n",
       "    </tr>\n",
       "  </tbody>\n",
       "</table>\n",
       "<p>140 rows × 14 columns</p>\n",
       "</div>"
      ],
      "text/plain": [
       "     HPIRank      Country                     SubRegion  \\\n",
       "0        110  Afghanistan  Middle East and North Africa   \n",
       "1         13      Albania                Post-communist   \n",
       "2         30      Algeria  Middle East and North Africa   \n",
       "3         19    Argentina                      Americas   \n",
       "4         73      Armenia                Post-communist   \n",
       "..       ...          ...                           ...   \n",
       "135       29    Venezuela                      Americas   \n",
       "136        5      Vietnam                  Asia Pacific   \n",
       "137       94        Yemen  Middle East and North Africa   \n",
       "138       77       Zambia            Sub Saharan Africa   \n",
       "139       99     Zimbabwe            Sub Saharan Africa   \n",
       "\n",
       "     AverageLifeExpectancy  AverageWellBeing  HappyLifeYears  Footprint  \\\n",
       "0                     59.7               3.8            12.4        0.8   \n",
       "1                     77.3               5.5            34.4        2.2   \n",
       "2                     74.3               5.6            30.5        2.1   \n",
       "3                     75.9               6.5            40.2        3.1   \n",
       "4                     74.4               4.3            24.0        2.2   \n",
       "..                     ...               ...             ...        ...   \n",
       "135                   73.9               7.1            41.5        3.6   \n",
       "136                   75.5               5.5            32.8        1.7   \n",
       "137                   63.3               4.1            15.2        1.0   \n",
       "138                   58.4               5.0            16.7        1.0   \n",
       "139                   53.7               5.0            16.4        1.4   \n",
       "\n",
       "     InequalityOfOutcomes  InequalityAdjustedLifeExpectancy  \\\n",
       "0                    0.43                              38.3   \n",
       "1                    0.17                              69.7   \n",
       "2                    0.24                              60.5   \n",
       "3                    0.16                              68.3   \n",
       "4                    0.22                              66.9   \n",
       "..                    ...                               ...   \n",
       "135                  0.19                              65.5   \n",
       "136                  0.19                              64.8   \n",
       "137                  0.39                              44.7   \n",
       "138                  0.41                              38.7   \n",
       "139                  0.37                              36.9   \n",
       "\n",
       "     InequalityAdjustedWellbeing  HappyPlanetIndex  GDPPerCapita  Population  \\\n",
       "0                            3.4              20.2           691    29726803   \n",
       "1                            5.1              36.8          4247     2900489   \n",
       "2                            5.2              33.3          5584    37439427   \n",
       "3                            6.0              35.2         14357    42095224   \n",
       "4                            3.7              25.7          3566     2978339   \n",
       "..                           ...               ...           ...         ...   \n",
       "135                          6.5              33.6         12772    29854238   \n",
       "136                          5.2              40.3          1755    88809200   \n",
       "137                          3.6              22.8          1289    24882792   \n",
       "138                          4.5              25.2          1687    14786581   \n",
       "139                          4.6              22.1           851    14565482   \n",
       "\n",
       "       G10  \n",
       "0    False  \n",
       "1    False  \n",
       "2    False  \n",
       "3    False  \n",
       "4    False  \n",
       "..     ...  \n",
       "135  False  \n",
       "136  False  \n",
       "137  False  \n",
       "138  False  \n",
       "139  False  \n",
       "\n",
       "[140 rows x 14 columns]"
      ]
     },
     "metadata": {},
     "output_type": "display_data"
    },
    {
     "data": {
      "text/plain": []
     },
     "execution_count": 6,
     "metadata": {},
     "output_type": "execute_result"
    }
   ],
   "source": [
    "df"
   ]
  },
  {
   "cell_type": "markdown",
   "metadata": {},
   "source": [
    "What if we look at countries above a certain GDP threshold? "
   ]
  },
  {
   "cell_type": "code",
   "execution_count": 7,
   "metadata": {},
   "outputs": [
    {
     "data": {
      "text/plain": [
       "9"
      ]
     },
     "execution_count": 7,
     "metadata": {},
     "output_type": "execute_result"
    }
   ],
   "source": [
    "lux.actions.__len__()"
   ]
  },
  {
   "cell_type": "code",
   "execution_count": 8,
   "metadata": {},
   "outputs": [
    {
     "data": {
      "text/plain": [
       "[RegisteredOption(name='correlation', action=<function correlation at 0x7fd1660cf3a0>, display_condition=<function LuxDataFrame.maintain_recs.<locals>.<lambda> at 0x7fd16616e280>, args=()),\n",
       " RegisteredOption(name='distribution', action=<function univariate at 0x7fd1660cfe50>, display_condition=<function LuxDataFrame.maintain_recs.<locals>.<lambda> at 0x7fd16616e280>, args=('quantitative',)),\n",
       " RegisteredOption(name='occurrence', action=<function univariate at 0x7fd1660cfe50>, display_condition=<function LuxDataFrame.maintain_recs.<locals>.<lambda> at 0x7fd16616e280>, args=('nominal',)),\n",
       " RegisteredOption(name='temporal', action=<function univariate at 0x7fd1660cfe50>, display_condition=<function LuxDataFrame.maintain_recs.<locals>.<lambda> at 0x7fd16616e280>, args=('temporal',)),\n",
       " RegisteredOption(name='enhance', action=<function enhance at 0x7fd1660cfee0>, display_condition=<function LuxDataFrame.maintain_recs.<locals>.<lambda> at 0x7fd16616e790>, args=()),\n",
       " RegisteredOption(name='filter', action=<function filter at 0x7fd1660da0d0>, display_condition=<function LuxDataFrame.maintain_recs.<locals>.<lambda> at 0x7fd16616e790>, args=()),\n",
       " RegisteredOption(name='generalize', action=<function generalize at 0x7fd1660da160>, display_condition=<function LuxDataFrame.maintain_recs.<locals>.<lambda> at 0x7fd16616e790>, args=()),\n",
       " RegisteredOption(name='custom', action=<function custom at 0x7fd165defdc0>, display_condition=<function LuxDataFrame.maintain_recs.<locals>.<lambda> at 0x7fd16616e1f0>, args=()),\n",
       " RegisteredOption(name='g10', action=<function G10_mean_difference at 0x7fd16616e3a0>, display_condition=None, args=())]"
      ]
     },
     "execution_count": 8,
     "metadata": {},
     "output_type": "execute_result"
    }
   ],
   "source": [
    "lux.actions.__getactions__()"
   ]
  },
  {
   "cell_type": "code",
   "execution_count": 9,
   "metadata": {},
   "outputs": [
    {
     "data": {
      "text/plain": [
       "RegisteredOption(name='g10', action=<function G10_mean_difference at 0x7fd16616e3a0>, display_condition=None, args=())"
      ]
     },
     "execution_count": 9,
     "metadata": {},
     "output_type": "execute_result"
    }
   ],
   "source": [
    "lux.actions.__getattr__('g10')"
   ]
  },
  {
   "cell_type": "code",
   "execution_count": 10,
   "metadata": {},
   "outputs": [],
   "source": [
    "lux.remove_action(\"g10\")"
   ]
  },
  {
   "cell_type": "code",
   "execution_count": 11,
   "metadata": {},
   "outputs": [
    {
     "data": {
      "application/vnd.jupyter.widget-view+json": {
       "model_id": "13a5883dd51b4ad9abb28b720651f705",
       "version_major": 2,
       "version_minor": 0
      },
      "text/plain": [
       "Button(description='Toggle Pandas/Lux', layout=Layout(top='5px', width='140px'), style=ButtonStyle())"
      ]
     },
     "metadata": {},
     "output_type": "display_data"
    },
    {
     "data": {
      "application/vnd.jupyter.widget-view+json": {
       "model_id": "78852c760dd444cdad6391af5370a01c",
       "version_major": 2,
       "version_minor": 0
      },
      "text/plain": [
       "Output()"
      ]
     },
     "metadata": {},
     "output_type": "display_data"
    },
    {
     "data": {
      "text/plain": []
     },
     "execution_count": 11,
     "metadata": {},
     "output_type": "execute_result"
    }
   ],
   "source": [
    "df"
   ]
  },
  {
   "cell_type": "code",
   "execution_count": null,
   "metadata": {},
   "outputs": [],
   "source": []
  }
 ],
 "metadata": {
  "kernelspec": {
   "display_name": "Python 3",
   "language": "python",
   "name": "python3"
  },
  "language_info": {
   "codemirror_mode": {
    "name": "ipython",
    "version": 3
   },
   "file_extension": ".py",
   "mimetype": "text/x-python",
   "name": "python",
   "nbconvert_exporter": "python",
   "pygments_lexer": "ipython3",
   "version": "3.8.3"
  }
 },
 "nbformat": 4,
 "nbformat_minor": 4
}
