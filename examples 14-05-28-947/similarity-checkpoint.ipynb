{
 "cells": [
  {
   "cell_type": "code",
   "execution_count": 1,
   "metadata": {},
   "outputs": [],
   "source": [
    "import pandas as pd\n",
    "import lux\n",
    "from lux.vis.Clause import Clause\n",
    "from lux.utils.utils import get_filter_specs\n",
    "import matplotlib.pyplot as plt\n",
    "\n",
    "\n",
    "lux.config.default_display = \"lux\"\n",
    "lux.config.plotting_backend = \"matplotlib\"\n",
    "\n",
    "# def change_color_make_transparent_add_title(fig, ax):\n",
    "#     ax.set_title(\"Test Title\")\n",
    "#     return fig, ax\n",
    "# lux.config.plot_config = change_color_make_transparent_add_title"
   ]
  },
  {
   "cell_type": "code",
   "execution_count": 2,
   "metadata": {},
   "outputs": [
    {
     "name": "stderr",
     "output_type": "stream",
     "text": [
      "/Users/caitlynachen/Desktop/frontendlux/tutorial-env/lib/python3.8/site-packages/IPython/lib/pretty.py:700: UserWarning:\n",
      "Unexpected error in rendering Lux widget and recommendations. Falling back to Pandas display.\n",
      "Please report the following issue on Github: https://github.com/lux-org/lux/issues \n",
      "\n",
      "/Users/caitlynachen/Desktop/frontendlux/tutorial-env/lib/python3.8/site-packages/lux_api-0.2.2-py3.8.egg/lux/core/series.py:205: UserWarning:Traceback (most recent call last):\n",
      "  File \"/Users/caitlynachen/Desktop/frontendlux/tutorial-env/lib/python3.8/site-packages/lux_api-0.2.2-py3.8.egg/lux/core/series.py\", line 157, in __repr__\n",
      "    ldf.maintain_recs()\n",
      "  File \"/Users/caitlynachen/Desktop/frontendlux/tutorial-env/lib/python3.8/site-packages/lux_api-0.2.2-py3.8.egg/lux/core/frame.py\", line 493, in maintain_recs\n",
      "    self._widget = rec_df.render_widget()\n",
      "  File \"/Users/caitlynachen/Desktop/frontendlux/tutorial-env/lib/python3.8/site-packages/lux_api-0.2.2-py3.8.egg/lux/core/frame.py\", line 749, in render_widget\n",
      "    widgetJSON = self.to_JSON(self._rec_info, input_current_vis=input_current_vis)\n",
      "  File \"/Users/caitlynachen/Desktop/frontendlux/tutorial-env/lib/python3.8/site-packages/lux_api-0.2.2-py3.8.egg/lux/core/frame.py\", line 788, in to_JSON\n",
      "    recCollection = LuxDataFrame.rec_to_JSON(rec_infolist)\n",
      "  File \"/Users/caitlynachen/Desktop/frontendlux/tutorial-env/lib/python3.8/site-packages/lux_api-0.2.2-py3.8.egg/lux/core/frame.py\", line 812, in rec_to_JSON\n",
      "    chart = vis.to_code(language=lux.config.plotting_backend, prettyOutput=False)\n",
      "  File \"/Users/caitlynachen/Desktop/frontendlux/tutorial-env/lib/python3.8/site-packages/lux_api-0.2.2-py3.8.egg/lux/vis/Vis.py\", line 311, in to_code\n",
      "    return self.to_matplotlib()\n",
      "  File \"/Users/caitlynachen/Desktop/frontendlux/tutorial-env/lib/python3.8/site-packages/lux_api-0.2.2-py3.8.egg/lux/vis/Vis.py\", line 252, in to_matplotlib\n",
      "    self._code = renderer.create_vis(self)\n",
      "  File \"/Users/caitlynachen/Desktop/frontendlux/tutorial-env/lib/python3.8/site-packages/lux_api-0.2.2-py3.8.egg/lux/vislib/matplotlib/MatplotlibRenderer.py\", line 75, in create_vis\n",
      "    chart = Histogram(vis, fig, ax)\n",
      "  File \"/Users/caitlynachen/Desktop/frontendlux/tutorial-env/lib/python3.8/site-packages/lux_api-0.2.2-py3.8.egg/lux/vislib/matplotlib/Histogram.py\", line 32, in __init__\n",
      "    super().__init__(vis, fig, ax)\n",
      "  File \"/Users/caitlynachen/Desktop/frontendlux/tutorial-env/lib/python3.8/site-packages/lux_api-0.2.2-py3.8.egg/lux/vislib/matplotlib/MatplotlibChart.py\", line 39, in __init__\n",
      "    self.chart = self.initialize_chart()\n",
      "  File \"/Users/caitlynachen/Desktop/frontendlux/tutorial-env/lib/python3.8/site-packages/lux_api-0.2.2-py3.8.egg/lux/vislib/matplotlib/Histogram.py\", line 44, in initialize_chart\n",
      "    if len(msr_attr.attribute) > 17:\n",
      "TypeError: object of type 'int' has no len()\n",
      "\n"
     ]
    },
    {
     "data": {
      "text/plain": [
       "0       0.750000\n",
       "1       1.000000\n",
       "2       0.000000\n",
       "3       1.000000\n",
       "4       0.333333\n",
       "          ...   \n",
       "1465    0.294118\n",
       "1466    0.777778\n",
       "1467    1.000000\n",
       "1468    0.529412\n",
       "1469    0.666667\n",
       "Name:  , Length: 1470, dtype: float64"
      ]
     },
     "metadata": {},
     "output_type": "display_data"
    },
    {
     "data": {
      "text/plain": []
     },
     "execution_count": 2,
     "metadata": {},
     "output_type": "execute_result"
    }
   ],
   "source": [
    "lux.config.plotting_backend = \"matplotlib\"\n",
    "df = pd.read_csv(\"https://raw.githubusercontent.com/lux-org/lux-datasets/master/data/employee.csv\")\n",
    "df.plot_config = None\n",
    "df = df[\"YearsAtCompany\"] / df[\"TotalWorkingYears\"]\n",
    "df\n",
    "# df = df.recommendation[\"Distribution\"]\n",
    "# df"
   ]
  },
  {
   "cell_type": "code",
   "execution_count": null,
   "metadata": {},
   "outputs": [],
   "source": [
    "vis = df.exported\n",
    "vis"
   ]
  },
  {
   "cell_type": "code",
   "execution_count": null,
   "metadata": {},
   "outputs": [],
   "source": [
    "df = pd.read_csv(\"../lux/data/car.csv\")\n",
    "df[\"Year\"] = pd.to_datetime(df[\"Year\"], format='%Y') # change pandas dtype for the column \"Year\" to datetype\n",
    "\n",
    "# df.set_intent([lux.Clause(\"Displacement\",channel=\"x\")])\n",
    "#               lux.Clause(\"Origin\",channel=\"y\")])\n",
    "df.set_intent([lux.Clause(\"Displacement\",channel=\"x\"), \n",
    "               lux.Clause(\"Acceleration\", channel=\"y\"), \n",
    "               lux.Clause(\"Cylinders\")])\n",
    "\n",
    "# df.current_vis[0].mark\n",
    "# len(get_filter_specs(df.intent))\n",
    "df"
   ]
  },
  {
   "cell_type": "code",
   "execution_count": null,
   "metadata": {},
   "outputs": [],
   "source": [
    "from lux.vis.Vis import Vis\n",
    "\n",
    "lux\n",
    "vis = Vis([\"price\", \"longitude\", \"availability_365\"], df)\n",
    "print(vis.to_matplotlib_code())\n",
    "vis"
   ]
  },
  {
   "cell_type": "code",
   "execution_count": null,
   "metadata": {},
   "outputs": [],
   "source": [
    "vis = df.exported[0]"
   ]
  },
  {
   "cell_type": "code",
   "execution_count": null,
   "metadata": {},
   "outputs": [],
   "source": [
    "print(vis.to_matplotlib_code())\n",
    "vis"
   ]
  },
  {
   "cell_type": "code",
   "execution_count": null,
   "metadata": {},
   "outputs": [],
   "source": [
    "plt.rcParams.update(\n",
    "            {\n",
    "                \"axes.titlesize\": 15,\n",
    "                \"axes.titleweight\": \"bold\",\n",
    "                \"axes.labelsize\": 13,\n",
    "                \"axes.labelweight\": \"bold\",\n",
    "                \"legend.fontsize\": 13,\n",
    "                \"legend.title_fontsize\": 13,\n",
    "            }\n",
    "        )\n",
    "import matplotlib.pyplot as plt\n",
    "import numpy as np\n",
    "from math import nan\n",
    "df = pd.DataFrame({'Displacement': {0: 87.35, 1: 126.05000000000001, 2: 164.75, 3: 203.45000000000002, 4: 242.15, 5: 280.85, 6: 319.55000000000007, 7: 358.25, 8: 396.95000000000005, 9: 435.65}, 'Number of Records': {0: 104.0, 1: 88.0, 2: 30.0, 3: 12.0, 4: 57.0, 5: 3.0, 6: 42.0, 7: 31.0, 8: 16.0, 9: 9.0}})\n",
    "fig, ax = plt.subplots()\n",
    "bars = df['Displacement']\n",
    "measurements = df['Number of Records']\n",
    "ax.bar(bars, measurements, width=32.25)\n",
    "ax.set_xlabel('Displacement (binned)')\n",
    "ax.set_ylabel('Number of Records')\n",
    "fig\n",
    "ax.set_title(\"Test Title\")\n",
    "fig"
   ]
  },
  {
   "cell_type": "code",
   "execution_count": null,
   "metadata": {},
   "outputs": [],
   "source": [
    "df.recommendation['Occurrence'][0].to_Altair()"
   ]
  },
  {
   "cell_type": "code",
   "execution_count": null,
   "metadata": {},
   "outputs": [],
   "source": [
    "import altair as alt\n",
    "visData = pd.DataFrame({'Origin': {0: 'Europe', 1: 'Japan', 2: 'USA'}, 'Record': {0: 68, 1: 79, 2: 245}})\\n\\nchart = alt.Chart(visData).mark_bar().encode(\n",
    "    y = alt.Y('Origin', type= 'nominal', axis=alt.Axis(labelOverlap=True, title='Origin')),\\n    x = alt.X('Record', type= 'quantitative', title='Number of Records', axis=alt.Axis(title='Number of Records')),\\n)\\nchart = chart.configure_mark(tooltip=alt.TooltipContent('encoding'))\\nchart = chart.configure_title(fontWeight=500,fontSize=13,font='Helvetica Neue')\\nchart = chart.configure_axis(titleFontWeight=500,titleFontSize=11,titleFont='Helvetica Neue',\\n\\t\\t\\tlabelFontWeight=400,labelFontSize=8,labelFont='Helvetica Neue',labelColor='#505050')\\nchart = chart.configure_legend(titleFontWeight=500,titleFontSize=10,titleFont='Helvetica Neue',\\n\\t\\t\\tlabelFontWeight=400,labelFontSize=8,labelFont='Helvetica Neue')\\nchart = chart.properties(width=160,height=150)\\n\\nchart"
   ]
  },
  {
   "cell_type": "raw",
   "metadata": {},
   "source": [
    "from lux.vis.Vis import Vis\n",
    "\n",
    "dataset = [\n",
    "        {\"normal\": \"USA\", \"long_var\": 3},\n",
    "        {\"normal\": \"Europe\", \"long_var\": 3},\n",
    "        {\"normal\": \"USA\", \"long_var\": 2},\n",
    "        {\"normal\": \"Europe\", \"long_var\": 4},\n",
    "    ]\n",
    "test = pd.DataFrame(dataset)\n",
    "vis = Vis([\"long_var\", \"normal\"], test)\n",
    "vis"
   ]
  },
  {
   "cell_type": "code",
   "execution_count": null,
   "metadata": {},
   "outputs": [],
   "source": [
    "one_current_vis = lambda ldf: ldf.current_vis is not None and len(ldf.current_vis) == 1"
   ]
  },
  {
   "cell_type": "code",
   "execution_count": null,
   "metadata": {},
   "outputs": [],
   "source": []
  },
  {
   "cell_type": "code",
   "execution_count": null,
   "metadata": {},
   "outputs": [],
   "source": [
    "df = pd.read_csv(\"../lux/data/car.csv\")\n",
    "df[\"Year\"] = pd.to_datetime(df[\"Year\"], format='%Y') # change pandas dtype for the column \"Year\" to datetype\n",
    "# df[\"Month\"] = pd.to_datetime(df[\"Month\"], format='%M') # change pandas dtype for the column \"Year\" to datetype\n",
    "\n",
    "df.set_intent([lux.Clause(\"Year\",channel=\"x\"), \n",
    "               lux.Clause(\"Displacement\",channel=\"y\"), \n",
    "               lux.Clause(\"Origin=USA\")])\n",
    "# last = get_filter_specs(df.intent)[-1]\n",
    "# query = df.intent.copy()[0:-1]\n",
    "# # array of possible values for attribute\n",
    "# arr = df[last.attribute].unique().tolist()\n",
    "# query.append(lux.Clause(last.attribute, last.attribute, arr))\n",
    "# query_vc = VisList(query,df)     \n",
    "# query_vc\n",
    "\n",
    "# search_space_vc = VisList(df.current_vis,df)\n",
    "        \n",
    "# preprocess(query_vis)\n",
    "# #for loop to create assign euclidean distance\n",
    "# recommendation = {\"action\":\"Similarity\",\n",
    "#                                \"description\":\"Show other charts that are visually similar to the Current vis.\"}\n",
    "# for vis in search_space_vc:\n",
    "#     preprocess(vis)\n",
    "#     vis.score = euclidean_dist(query_vis, vis)\n",
    "# search_space_vc.normalize_score(invert_order=True)"
   ]
  },
  {
   "cell_type": "code",
   "execution_count": null,
   "metadata": {},
   "outputs": [],
   "source": [
    "lux.register_action(\"similarity\", similar_pattern, one_current_vis)"
   ]
  },
  {
   "cell_type": "code",
   "execution_count": null,
   "metadata": {},
   "outputs": [],
   "source": [
    "df"
   ]
  },
  {
   "cell_type": "code",
   "execution_count": null,
   "metadata": {},
   "outputs": [],
   "source": [
    "df.current_vis"
   ]
  },
  {
   "cell_type": "code",
   "execution_count": null,
   "metadata": {},
   "outputs": [],
   "source": []
  }
 ],
 "metadata": {
  "kernelspec": {
   "display_name": "Python 3",
   "language": "python",
   "name": "python3"
  },
  "language_info": {
   "codemirror_mode": {
    "name": "ipython",
    "version": 3
   },
   "file_extension": ".py",
   "mimetype": "text/x-python",
   "name": "python",
   "nbconvert_exporter": "python",
   "pygments_lexer": "ipython3",
   "version": "3.8.2"
  }
 },
 "nbformat": 4,
 "nbformat_minor": 4
}
